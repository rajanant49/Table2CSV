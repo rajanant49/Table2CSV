{
 "cells": [
  {
   "cell_type": "code",
   "execution_count": 1,
   "id": "ff998525",
   "metadata": {},
   "outputs": [],
   "source": [
    "# importing prerequisites\n",
    "import sys\n",
    "import requests\n",
    "import cv2\n",
    "import random\n",
    "import tarfile\n",
    "import json\n",
    "import numpy as np\n",
    "import pdf2image\n",
    "from os import path\n",
    "from PIL import Image\n",
    "from PIL import ImageFont, ImageDraw\n",
    "from glob import glob\n",
    "from matplotlib import pyplot as plt\n",
    "from pdf2image import convert_from_path\n",
    "from pathlib import Path\n",
    "from PyPDF2 import PdfFileReader\n",
    "from IPython.core.display import display, HTML\n",
    "import pdb\n",
    "import glob\n",
    "import os\n",
    "import copy\n",
    "\n",
    "%matplotlib inline"
   ]
  },
  {
   "cell_type": "code",
   "execution_count": 2,
   "id": "18f71791",
   "metadata": {},
   "outputs": [
    {
     "data": {
      "text/plain": [
       "True"
      ]
     },
     "execution_count": 2,
     "metadata": {},
     "output_type": "execute_result"
    }
   ],
   "source": [
    "# Verifying the file was extracted properly\n",
    "data_path = \"/media/ananta/KGP/FinsightAI/fintabnet\"\n",
    "path.exists(data_path)"
   ]
  },
  {
   "cell_type": "code",
   "execution_count": 3,
   "id": "201967d4",
   "metadata": {},
   "outputs": [],
   "source": [
    "# Define color code\n",
    "colors = [(255, 0, 0),(0, 255, 0)]\n",
    "categories = [\"table\", \"cell\"]"
   ]
  },
  {
   "cell_type": "code",
   "execution_count": 4,
   "id": "0d254c77",
   "metadata": {},
   "outputs": [],
   "source": [
    "# Parse the JSON file and read all the images and labels\n",
    "with open('/media/ananta/KGP/FinsightAI/fintabnet/FinTabNet_1.0.0_table_test.jsonl', 'r') as fp:\n",
    "    images = {}\n",
    "    for line in fp:\n",
    "        sample = json.loads(line)\n",
    "        # Index images\n",
    "        if sample['filename'] in images:\n",
    "            annotations = images[sample['filename']][\"annotations\"]\n",
    "#             html = images[sample['filename']][\"html\"]\n",
    "        else:\n",
    "            annotations = []\n",
    "#             html = \"\"\n",
    "        for t, token in enumerate(sample[\"html\"][\"cells\"]):\n",
    "            if \"bbox\" in token:\n",
    "                annotations.append({\"category_id\":2, \"bbox\": token[\"bbox\"]})\n",
    "#         #Build html table\n",
    "#         cnt = 0\n",
    "#         for t, token in enumerate(sample[\"html\"][\"structure\"][\"tokens\"]):\n",
    "#             html += token\n",
    "#             if token==\"<td>\":\n",
    "#                 html += \"\".join(sample[\"html\"][\"cells\"][cnt][\"tokens\"])\n",
    "#                 cnt += 1\n",
    "        annotations.append({\"category_id\": 1, \"bbox\": sample[\"bbox\"]})\n",
    "        images[sample['filename']] = {'filepath': '/media/ananta/KGP/FinsightAI/fintabnet/pdf/' + sample[\"filename\"], \n",
    "#                                       'html': html, \n",
    "                                      'annotations': annotations}\n",
    "        "
   ]
  },
  {
   "cell_type": "code",
   "execution_count": 5,
   "id": "69efd7c0",
   "metadata": {},
   "outputs": [],
   "source": [
    "# images"
   ]
  },
  {
   "cell_type": "code",
   "execution_count": 6,
   "id": "8999f95a",
   "metadata": {},
   "outputs": [],
   "source": [
    "# Function to viz the annotation\n",
    "def markup(image, annotations,pdf_width, pdf_height):\n",
    "    ''' Draws the segmentation, bounding box, and label of each annotation\n",
    "    '''\n",
    "    img_width,img_height = image.size\n",
    "#     print(\"btbtbt\",img_height,img_width)\n",
    "    filled_table = np.zeros_like(image)\n",
    "    filled_cells = np.zeros_like(image)\n",
    "    \n",
    "    draw = ImageDraw.Draw(image, 'RGBA')\n",
    "    for annotation in annotations:\n",
    "        # Draw bbox\n",
    "        orig_annotation = copy.copy(annotation['bbox'])\n",
    "#         annotation['bbox'][3] = pdf_height-orig_annotation[1]\n",
    "#         annotation['bbox'][1] = pdf_height-orig_annotation[3]\n",
    "        draw.rectangle(\n",
    "            (annotation['bbox'][0]*img_width/pdf_width,\n",
    "             (float(pdf_height)-annotation['bbox'][3])*img_height/pdf_height,\n",
    "             (annotation['bbox'][2])*img_width/pdf_width,\n",
    "             (float(pdf_height)-annotation['bbox'][1])*img_height/pdf_height),\n",
    "            outline=colors[annotation['category_id'] - 1] + (255,),\n",
    "            width=2\n",
    "        )\n",
    "        \n",
    "        xmin=round((annotation['bbox'][0])*img_width/pdf_width)\n",
    "        ymin=round((pdf_height-annotation['bbox'][3])*img_height/pdf_height)\n",
    "        xmax=round((annotation['bbox'][2])*img_width/pdf_width)\n",
    "        ymax=round((pdf_height-annotation['bbox'][1])*img_height/pdf_height)\n",
    "        \n",
    "        if annotation['category_id']==1:\n",
    "            filled_table[ymin:ymax,xmin:xmax]=255\n",
    "            \n",
    "        else:\n",
    "            filled_cells[ymin:ymax,xmin:xmax]=255\n",
    "                \n",
    "\n",
    "    return np.array(filled_table),np.array(filled_cells)"
   ]
  },
  {
   "cell_type": "code",
   "execution_count": 7,
   "id": "3400d202",
   "metadata": {},
   "outputs": [],
   "source": [
    "# !mkdir images\n",
    "# !mkdir table_mask\n",
    "# !mkdir cell_mask"
   ]
  },
  {
   "cell_type": "code",
   "execution_count": null,
   "id": "9b8bca47",
   "metadata": {},
   "outputs": [],
   "source": [
    "import matplotlib\n",
    "matplotlib.rcParams['figure.dpi'] = 505\n",
    "for i, (filename, image) in enumerate(images.items()):\n",
    "    \n",
    "#     if i==10:\n",
    "#         break\n",
    "    filenaam = filename.split('.')[0].replace('/','_')\n",
    "    pdf_page = PdfFileReader(open(image[\"filepath\"], 'rb')).getPage(0)\n",
    "    pdf_shape = pdf_page.mediaBox\n",
    "    pdf_height = pdf_shape[3]-pdf_shape[1]\n",
    "    pdf_width = pdf_shape[2]-pdf_shape[0]\n",
    "    converted_images = convert_from_path(image[\"filepath\"],size=(pdf_width, pdf_height))\n",
    "    img = converted_images[0].copy()\n",
    "    \n",
    "    \n",
    "    try:\n",
    "        table_mask,cell_mask = markup(img, image['annotations'],pdf_width, pdf_height)\n",
    "        \n",
    "    except:\n",
    "        continue\n",
    "    table_mask,cell_mask = Image.fromarray(table_mask),Image.fromarray(cell_mask)\n",
    "    img = converted_images[0]\n",
    "    img = img.resize((512,512))\n",
    "    table_mask = table_mask.resize((512,512))\n",
    "    print(img.size)\n",
    "    img.save(f'Fintab_test_data/images/{filenaam}.jpg')\n",
    "    table_mask.save(f'Fintab_test_data/table_mask/{filenaam}.jpg')\n",
    "    cell_mask.save(f'Fintab_highres/cell_mask/{filenaam}.jpg')\n",
    "    print(i)\n",
    "    print(filenaam)\n",
    "\n",
    "\n",
    "#     plt.figure()\n",
    "#     plt.subplot(1,3,1)\n",
    "#     plt.imshow(img)    \n",
    "#     plt.title(\"Page # {}\".format(i))\n",
    "#     plt.subplot(1,3,2)\n",
    "#     plt.imshow(table_mask)\n",
    "#     plt.title(\"Table Mask # {}\".format(i))\n",
    "#     plt.subplot(1,3,3)\n",
    "#     plt.imshow(cell_mask)\n",
    "#     plt.title(\"Cell Mask # {}\".format(i))\n",
    "#     plt.show()\n"
   ]
  },
  {
   "cell_type": "code",
   "execution_count": null,
   "id": "c485fc7c",
   "metadata": {},
   "outputs": [],
   "source": []
  }
 ],
 "metadata": {
  "kernelspec": {
   "display_name": "Python 3",
   "language": "python",
   "name": "python3"
  },
  "language_info": {
   "codemirror_mode": {
    "name": "ipython",
    "version": 3
   },
   "file_extension": ".py",
   "mimetype": "text/x-python",
   "name": "python",
   "nbconvert_exporter": "python",
   "pygments_lexer": "ipython3",
   "version": "3.8.10"
  }
 },
 "nbformat": 4,
 "nbformat_minor": 5
}
